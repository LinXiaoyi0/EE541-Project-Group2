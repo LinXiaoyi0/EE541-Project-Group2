{
 "cells": [
  {
   "cell_type": "code",
   "execution_count": 4,
   "metadata": {
    "collapsed": true
   },
   "outputs": [
    {
     "name": "stdout",
     "output_type": "stream",
     "text": [
      "D:\\USC-Master\\Deep learning\\project\\asl_alphabet_train\\train\\A finish\n",
      "D:\\USC-Master\\Deep learning\\project\\asl_alphabet_train\\train\\B finish\n",
      "D:\\USC-Master\\Deep learning\\project\\asl_alphabet_train\\train\\C finish\n",
      "D:\\USC-Master\\Deep learning\\project\\asl_alphabet_train\\train\\D finish\n",
      "D:\\USC-Master\\Deep learning\\project\\asl_alphabet_train\\train\\del finish\n",
      "D:\\USC-Master\\Deep learning\\project\\asl_alphabet_train\\train\\E finish\n",
      "D:\\USC-Master\\Deep learning\\project\\asl_alphabet_train\\train\\F finish\n",
      "D:\\USC-Master\\Deep learning\\project\\asl_alphabet_train\\train\\G finish\n",
      "D:\\USC-Master\\Deep learning\\project\\asl_alphabet_train\\train\\H finish\n",
      "D:\\USC-Master\\Deep learning\\project\\asl_alphabet_train\\train\\I finish\n",
      "D:\\USC-Master\\Deep learning\\project\\asl_alphabet_train\\train\\J finish\n",
      "D:\\USC-Master\\Deep learning\\project\\asl_alphabet_train\\train\\K finish\n",
      "D:\\USC-Master\\Deep learning\\project\\asl_alphabet_train\\train\\L finish\n",
      "D:\\USC-Master\\Deep learning\\project\\asl_alphabet_train\\train\\M finish\n",
      "D:\\USC-Master\\Deep learning\\project\\asl_alphabet_train\\train\\N finish\n",
      "D:\\USC-Master\\Deep learning\\project\\asl_alphabet_train\\train\\nothing finish\n",
      "D:\\USC-Master\\Deep learning\\project\\asl_alphabet_train\\train\\O finish\n",
      "D:\\USC-Master\\Deep learning\\project\\asl_alphabet_train\\train\\P finish\n",
      "D:\\USC-Master\\Deep learning\\project\\asl_alphabet_train\\train\\Q finish\n",
      "D:\\USC-Master\\Deep learning\\project\\asl_alphabet_train\\train\\R finish\n",
      "D:\\USC-Master\\Deep learning\\project\\asl_alphabet_train\\train\\S finish\n",
      "D:\\USC-Master\\Deep learning\\project\\asl_alphabet_train\\train\\space finish\n",
      "D:\\USC-Master\\Deep learning\\project\\asl_alphabet_train\\train\\T finish\n",
      "D:\\USC-Master\\Deep learning\\project\\asl_alphabet_train\\train\\U finish\n",
      "D:\\USC-Master\\Deep learning\\project\\asl_alphabet_train\\train\\V finish\n",
      "D:\\USC-Master\\Deep learning\\project\\asl_alphabet_train\\train\\W finish\n",
      "D:\\USC-Master\\Deep learning\\project\\asl_alphabet_train\\train\\X finish\n",
      "D:\\USC-Master\\Deep learning\\project\\asl_alphabet_train\\train\\Y finish\n",
      "D:\\USC-Master\\Deep learning\\project\\asl_alphabet_train\\train\\Z finish\n"
     ]
    }
   ],
   "source": [
    "import os\n",
    "import shutil\n",
    "source_dir = \"D:\\\\USC-Master\\\\Deep learning\\\\project\\\\asl_alphabet_train\\\\train\"\n",
    "val_dir = \"D:\\\\USC-Master\\\\Deep learning\\\\project\\\\asl_alphabet_train\\\\val\"\n",
    "test_dir = \"D:\\\\USC-Master\\\\Deep learning\\\\project\\\\asl_alphabet_train\\\\test\"\n",
    "\n",
    "for dir in os.listdir(source_dir):\n",
    "    class_dir = os.path.join(source_dir, dir)\n",
    "    class_val_dir = os.path.join(val_dir, dir)\n",
    "    class_test_dir = os.path.join(test_dir, dir)\n",
    "    if not os.path.exists(class_val_dir):\n",
    "        os.makedirs(class_val_dir)\n",
    "    if not os.path.exists(class_test_dir):\n",
    "        os.makedirs(class_test_dir)\n",
    "    count = 0\n",
    "    for filename in os.listdir(class_dir):\n",
    "        source_file = os.path.join(class_dir, filename)\n",
    "        count += 1\n",
    "        if count <= 300:\n",
    "            target_dir = os.path.join(class_val_dir, filename)\n",
    "        elif count <= 600:\n",
    "            target_dir = os.path.join(class_test_dir, filename)\n",
    "        else: break\n",
    "        shutil.move(source_file, target_dir)\n",
    "    print(class_dir, 'finish')"
   ]
  }
 ],
 "metadata": {
  "kernelspec": {
   "display_name": "Python 3",
   "language": "python",
   "name": "python3"
  },
  "language_info": {
   "codemirror_mode": {
    "name": "ipython",
    "version": 2
   },
   "file_extension": ".py",
   "mimetype": "text/x-python",
   "name": "python",
   "nbconvert_exporter": "python",
   "pygments_lexer": "ipython2",
   "version": "2.7.6"
  }
 },
 "nbformat": 4,
 "nbformat_minor": 0
}